{
 "cells": [
  {
   "cell_type": "markdown",
   "id": "f4930a2c-b361-432a-a42c-b88ddbe800b6",
   "metadata": {},
   "source": [
    "# H1: Data Science Tools and Ecosystem"
   ]
  },
  {
   "cell_type": "markdown",
   "id": "1534e829-9e85-4df0-b092-fe3de0fdfff3",
   "metadata": {},
   "source": [
    "In this notebook, Data Science Tools and Ecosystem are summarized.\n",
    "**Objectives:**\n",
    "- List piopular languages for Data Science\n",
    "- List commonly uses libraries by Data Scientist\n",
    "- Open source Data Science tools"
   ]
  },
  {
   "cell_type": "markdown",
   "id": "26e43592-e734-44ed-b138-1172dad60214",
   "metadata": {},
   "source": [
    "Some of the popular languages that Data Scientists use are:\n",
    "1. Python\n",
    "2. R\n",
    "3. julia\n",
    "4. Scala\n",
    "5. java\n",
    "6. c++"
   ]
  },
  {
   "cell_type": "markdown",
   "id": "ce7bfcb6-873e-4d14-9c0d-3377a2cb2fa1",
   "metadata": {},
   "source": [
    "Some of the commonly used libraries used by Data Scientists include:\n",
    "1. Pandas\n",
    "2. Tensorflow\n",
    "3. Numpy\n",
    "4. scipy\n",
    "5. matplotlib\n",
    "6. pytorch"
   ]
  },
  {
   "cell_type": "markdown",
   "id": "dc0564dd-ded7-4cad-92cc-7bebb463d4b3",
   "metadata": {},
   "source": [
    "| Data Science tools |\n",
    "| -------------------|\n",
    "| Anaconda |\n",
    "| pycharm |\n",
    "| Jupyter Notebooks |"
   ]
  },
  {
   "cell_type": "markdown",
   "id": "a8ce65da-2647-4268-9d91-dadd57b0d8f4",
   "metadata": {},
   "source": [
    "### H3: Below are a few examples of evaluating arithmetic expressions in Python\n"
   ]
  },
  {
   "cell_type": "code",
   "execution_count": 4,
   "id": "41559977-1174-45a0-812f-4c0c4ff52e2e",
   "metadata": {
    "scrolled": true
   },
   "outputs": [
    {
     "data": {
      "text/plain": [
       "17"
      ]
     },
     "execution_count": 4,
     "metadata": {},
     "output_type": "execute_result"
    }
   ],
   "source": [
    "#This a simple arithmetic expression to mutiply then add integers\n",
    "(3 * 4) + 5 "
   ]
  },
  {
   "cell_type": "code",
   "execution_count": 8,
   "id": "cabde11b-c4cd-4f19-b94f-9752d4033a2c",
   "metadata": {},
   "outputs": [
    {
     "data": {
      "text/plain": [
       "3.3333333333333335"
      ]
     },
     "execution_count": 8,
     "metadata": {},
     "output_type": "execute_result"
    }
   ],
   "source": [
    "# This will convert 200 minutes to hours by diving by 60\n",
    "200/60 "
   ]
  },
  {
   "cell_type": "code",
   "execution_count": null,
   "id": "53bf360b-efa2-4aa9-9c48-d9e04f8c3628",
   "metadata": {},
   "outputs": [],
   "source": [
    "## Author \n",
    "Clinton Beyene"
   ]
  }
 ],
 "metadata": {
  "kernelspec": {
   "display_name": "Python 3 (ipykernel)",
   "language": "python",
   "name": "python3"
  },
  "language_info": {
   "codemirror_mode": {
    "name": "ipython",
    "version": 3
   },
   "file_extension": ".py",
   "mimetype": "text/x-python",
   "name": "python",
   "nbconvert_exporter": "python",
   "pygments_lexer": "ipython3",
   "version": "3.11.7"
  }
 },
 "nbformat": 4,
 "nbformat_minor": 5
}
